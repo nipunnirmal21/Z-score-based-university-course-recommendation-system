{
  "nbformat": 4,
  "nbformat_minor": 0,
  "metadata": {
    "colab": {
      "provenance": [],
      "authorship_tag": "ABX9TyO1SVBSVFApM7h6Bjq4Kt6y",
      "include_colab_link": true
    },
    "kernelspec": {
      "name": "python3",
      "display_name": "Python 3"
    },
    "language_info": {
      "name": "python"
    }
  },
  "cells": [
    {
      "cell_type": "markdown",
      "metadata": {
        "id": "view-in-github",
        "colab_type": "text"
      },
      "source": [
        "<a href=\"https://colab.research.google.com/github/nipunnirmal21/Z-score-based-university-course-recommendation-system/blob/main/Z_score.ipynb\" target=\"_parent\"><img src=\"https://colab.research.google.com/assets/colab-badge.svg\" alt=\"Open In Colab\"/></a>"
      ]
    },
    {
      "cell_type": "code",
      "execution_count": 2,
      "metadata": {
        "id": "ECENwIsrjIQ0"
      },
      "outputs": [],
      "source": [
        "import pandas as pd\n",
        "from sklearn.preprocessing import OneHotEncoder\n",
        "from sklearn.model_selection import train_test_split\n",
        "from sklearn.tree import DecisionTreeClassifier\n",
        "from sklearn.metrics import accuracy_score"
      ]
    },
    {
      "cell_type": "code",
      "source": [
        "try:\n",
        "    df = pd.read_csv('university_dataset.csv')\n",
        "    print(\"Dataset loaded successfully!\")\n",
        "    print(f\"\\nTotal data points: {len(df)}\")\n",
        "except FileNotFoundError:\n",
        "    print(\"Error: 'university_dataset.csv' not found. Please ensure it's in the correct location.\")\n",
        "    # Exit or handle the error appropriately if the file is crucial\n",
        "    exit()"
      ],
      "metadata": {
        "id": "vYAEtHzXAjn1",
        "outputId": "d992a654-b12f-421c-adad-4beaa8aebcce",
        "colab": {
          "base_uri": "https://localhost:8080/"
        }
      },
      "execution_count": 3,
      "outputs": [
        {
          "output_type": "stream",
          "name": "stdout",
          "text": [
            "Dataset loaded successfully!\n",
            "\n",
            "Total data points: 1575\n"
          ]
        }
      ]
    },
    {
      "cell_type": "code",
      "source": [],
      "metadata": {
        "id": "3PiNIC5MAoer"
      },
      "execution_count": null,
      "outputs": []
    }
  ]
}