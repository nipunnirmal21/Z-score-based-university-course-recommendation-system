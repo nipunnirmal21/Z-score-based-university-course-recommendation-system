{
  "nbformat": 4,
  "nbformat_minor": 0,
  "metadata": {
    "colab": {
      "provenance": [],
      "authorship_tag": "ABX9TyOAfxV4i+NvHCSgzB/j0xTg",
      "include_colab_link": true
    },
    "kernelspec": {
      "name": "python3",
      "display_name": "Python 3"
    },
    "language_info": {
      "name": "python"
    }
  },
  "cells": [
    {
      "cell_type": "markdown",
      "metadata": {
        "id": "view-in-github",
        "colab_type": "text"
      },
      "source": [
        "<a href=\"https://colab.research.google.com/github/nipunnirmal21/Z-score-based-university-course-recommendation-system/blob/main/Z_score.ipynb\" target=\"_parent\"><img src=\"https://colab.research.google.com/assets/colab-badge.svg\" alt=\"Open In Colab\"/></a>"
      ]
    },
    {
      "cell_type": "code",
      "execution_count": 2,
      "metadata": {
        "id": "ECENwIsrjIQ0"
      },
      "outputs": [],
      "source": [
        "import pandas as pd\n",
        "from sklearn.preprocessing import OneHotEncoder\n",
        "from sklearn.model_selection import train_test_split\n",
        "from sklearn.tree import DecisionTreeClassifier\n",
        "from sklearn.metrics import accuracy_score"
      ]
    },
    {
      "cell_type": "code",
      "source": [
        "try:\n",
        "    df = pd.read_csv('university_dataset.csv')\n",
        "    print(\"Dataset loaded successfully!\")\n",
        "    print(f\"\\nTotal data points: {len(df)}\")\n",
        "except FileNotFoundError:\n",
        "    print(\"Error: 'university_dataset.csv' not found. Please ensure it's in the correct location.\")\n",
        "    # Exit or handle the error appropriately if the file is crucial\n",
        "    exit()"
      ],
      "metadata": {
        "colab": {
          "base_uri": "https://localhost:8080/"
        },
        "id": "vYAEtHzXAjn1",
        "outputId": "d992a654-b12f-421c-adad-4beaa8aebcce"
      },
      "execution_count": 3,
      "outputs": [
        {
          "output_type": "stream",
          "name": "stdout",
          "text": [
            "Dataset loaded successfully!\n",
            "\n",
            "Total data points: 1575\n"
          ]
        }
      ]
    },
    {
      "cell_type": "code",
      "source": [
        "df['Stream'] = df['Stream'].str.strip().str.lower()\n",
        "df['District'] = df['District'].str.strip().str.lower()\n",
        "df['Degree Program'] = df['Degree Program'].str.strip().str.lower()"
      ],
      "metadata": {
        "id": "3PiNIC5MAoer"
      },
      "execution_count": 4,
      "outputs": []
    },
    {
      "cell_type": "code",
      "source": [
        "unique_streams = df['Stream'].unique().tolist()\n",
        "unique_districts = df['District'].unique().tolist()\n",
        "unique_degree_programs = df['Degree Program'].unique().tolist()"
      ],
      "metadata": {
        "id": "J6uzoivYBGEb"
      },
      "execution_count": 5,
      "outputs": []
    },
    {
      "cell_type": "code",
      "source": [
        "encoder_stream = OneHotEncoder(handle_unknown='ignore', sparse_output=False)\n",
        "encoded_streams = encoder_stream.fit_transform(df[['Stream']])\n",
        "encoded_stream_df = pd.DataFrame(encoded_streams, columns=encoder_stream.get_feature_names_out(['Stream']))"
      ],
      "metadata": {
        "id": "TDk0iaeFBIgr"
      },
      "execution_count": 6,
      "outputs": []
    },
    {
      "cell_type": "code",
      "source": [
        "encoder_district = OneHotEncoder(handle_unknown='ignore', sparse_output=False)\n",
        "encoded_districts = encoder_district.fit_transform(df[['District']])\n",
        "encoded_district_df = pd.DataFrame(encoded_districts, columns=encoder_district.get_feature_names_out(['District']))"
      ],
      "metadata": {
        "id": "_vlo7eXWBMrT"
      },
      "execution_count": 7,
      "outputs": []
    },
    {
      "cell_type": "code",
      "source": [
        "df_processed = pd.concat([df[['Min Z-score']], encoded_stream_df, encoded_district_df], axis=1)\n"
      ],
      "metadata": {
        "id": "d1Gyhhc8BS2N"
      },
      "execution_count": 8,
      "outputs": []
    },
    {
      "cell_type": "code",
      "source": [
        "def recommend_courses_rule_based(z_score, stream, district, dataset):\n",
        "    \"\"\"\n",
        "    Recommends university degree programs based on Z-score, stream, and district\n",
        "    using a rule-based filtering approach.\n",
        "\n",
        "    Args:\n",
        "        z_score (float): The student's Z-score.\n",
        "        stream (str): The student's A/L stream (e.g., 'physical science').\n",
        "        district (str): The student's district (e.g., 'colombo').\n",
        "        dataset (pd.DataFrame): The DataFrame containing university admission data.\n",
        "\n",
        "    Returns:\n",
        "        pd.DataFrame: A DataFrame of recommended courses.\n",
        "    \"\"\"\n",
        "\n",
        "    stream = stream.strip().lower()\n",
        "    district = district.strip().lower()\n",
        "\n",
        "    recommended = dataset[\n",
        "        (dataset['Stream'] == stream) &\n",
        "        (dataset['District'] == district) &\n",
        "        (dataset['Min Z-score'] <= z_score)\n",
        "    ]\n",
        "\n",
        "    recommended = recommended.sort_values(by='Min Z-score', ascending=False)\n",
        "    return recommended[['Degree Program', 'Stream', 'District', 'Min Z-score']]\n"
      ],
      "metadata": {
        "id": "LkhYfymRGAaH"
      },
      "execution_count": 11,
      "outputs": []
    },
    {
      "cell_type": "code",
      "source": [],
      "metadata": {
        "id": "e06_gLMYGFcH"
      },
      "execution_count": null,
      "outputs": []
    }
  ]
}